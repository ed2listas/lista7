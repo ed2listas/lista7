{
 "cells": [
  {
   "cell_type": "code",
   "execution_count": 6,
   "metadata": {},
   "outputs": [
    {
     "name": "stdout",
     "output_type": "stream",
     "text": [
      "52\n"
     ]
    }
   ],
   "source": [
    "import csv \n",
    "import random \n",
    "\n",
    "#Wheight interval schedule\n",
    "class job:\n",
    "    name = ''\n",
    "    start = 0\n",
    "    finish = 0\n",
    "    value_priority = 0\n",
    "    \n",
    "    def __init__(self, name, start, finish):\n",
    "        self.name = name\n",
    "        self.start = start\n",
    "        self.finish = finish\n",
    "\n",
    "def wheight_interval():\n",
    "    \n",
    "    \n",
    "    with open(\"companies.csv\", \"r\") as f:\n",
    "        data = csv.reader(f)\n",
    "        next(data)\n",
    "        \n",
    "        for line in data:\n",
    "            print(line)\n",
    "        \n",
    "        \n",
    "wheight_interval()\n",
    "        \n",
    "\n",
    "        \n",
    "\n",
    "\n",
    "    "
   ]
  }
 ],
 "metadata": {
  "kernelspec": {
   "display_name": "Python 3",
   "language": "python",
   "name": "python3"
  },
  "language_info": {
   "codemirror_mode": {
    "name": "ipython",
    "version": 2
   },
   "file_extension": ".py",
   "mimetype": "text/x-python",
   "name": "python",
   "nbconvert_exporter": "python",
   "pygments_lexer": "ipython2",
   "version": "2.7.12"
  }
 },
 "nbformat": 4,
 "nbformat_minor": 2
}
