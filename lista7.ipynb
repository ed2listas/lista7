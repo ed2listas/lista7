{
 "cells": [
  {
   "cell_type": "code",
   "execution_count": 6,
   "metadata": {},
   "outputs": [
    {
     "name": "stdout",
     "output_type": "stream",
     "text": [
      "52\n"
     ]
    }
   ],
   "source": [
    "#Wheight interval schedule\n",
    "\n",
    "class job:\n",
    "    name = ''\n",
    "    value = 0;\n",
    "    \n",
    "    def __init__(self):\n",
    "        self.name = 'teste'\n",
    "        self.value = 52;\n",
    "        \n",
    "job1 = job()\n",
    "        \n",
    "print(job1.value)\n",
    "\n",
    "    "
   ]
  }
 ],
 "metadata": {
  "kernelspec": {
   "display_name": "Python 3",
   "language": "python",
   "name": "python3"
  },
  "language_info": {
   "codemirror_mode": {
    "name": "ipython",
    "version": 2
   },
   "file_extension": ".py",
   "mimetype": "text/x-python",
   "name": "python",
   "nbconvert_exporter": "python",
   "pygments_lexer": "ipython2",
   "version": "2.7.12"
  }
 },
 "nbformat": 4,
 "nbformat_minor": 2
}
